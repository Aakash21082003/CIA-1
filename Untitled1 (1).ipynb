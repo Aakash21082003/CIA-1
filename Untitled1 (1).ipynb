{
 "cells": [
  {
   "cell_type": "code",
   "execution_count": 1,
   "id": "7d348d39",
   "metadata": {},
   "outputs": [],
   "source": [
    "import random\n",
    "import logging\n",
    "import pandas as pd\n",
    "import numpy as np\n",
    "from sklearn.metrics import accuracy_score\n",
    "from keras.models import Sequential\n",
    "from keras.layers import Dense\n",
    "from sklearn.model_selection import train_test_split\n",
    "from keras import optimizers\n",
    "\n",
    "logging.basicConfig(level=logging.DEBUG,\n",
    "                    format='%(asctime)s %(message)s',\n",
    "                    handlers=[logging.FileHandler(\"ann_test.log\"),\n",
    "                              logging.StreamHandler()])"
   ]
  },
  {
   "cell_type": "code",
   "execution_count": 2,
   "id": "094eef13",
   "metadata": {},
   "outputs": [],
   "source": [
    "class ANN(Sequential):\n",
    "    \n",
    "    def __init__(self, child_weights=None):\n",
    "        super().__init__()\n",
    "\n",
    "        if child_weights is None:\n",
    "            layer1 = Dense(8, input_shape=(11,), activation='sigmoid')\n",
    "            layer2 = Dense(1, activation='sigmoid')\n",
    "            self.add(layer1)\n",
    "            self.add(layer2)\n",
    "        else:\n",
    "            self.add(\n",
    "                Dense(\n",
    "                    8,\n",
    "                    input_shape=(11,),\n",
    "                    activation='sigmoid',\n",
    "                    weights=[child_weights[0], np.ones(8)])\n",
    "                )\n",
    "            self.add(\n",
    "                Dense(\n",
    "                    1,\n",
    "                    activation='sigmoid',\n",
    "                    weights=[child_weights[1], np.zeros(1)])\n",
    "            )\n",
    "\n",
    "    def forward_propagation(self, train_feature, train_label):\n",
    "        predict_label = self.predict(train_feature.values)\n",
    "        self.fitness = accuracy_score(train_label, predict_label.round())\n"
   ]
  },
  {
   "cell_type": "code",
   "execution_count": 3,
   "id": "bb05e307",
   "metadata": {},
   "outputs": [],
   "source": [
    "def crossover(nn1, nn2):\n",
    "    \n",
    "    nn1_weights = []\n",
    "    nn2_weights = []\n",
    "    child_weights = []\n",
    "\n",
    "    for layer in nn1.layers:\n",
    "        nn1_weights.append(layer.get_weights()[0])\n",
    "\n",
    "    for layer in nn2.layers:\n",
    "        nn2_weights.append(layer.get_weights()[0])\n",
    "\n",
    "    for i in range(len(nn1_weights)):\n",
    "        # Get single point to split the matrix in parents based on # of cols\n",
    "        split = random.randint(0, np.shape(nn1_weights[i])[1]-1)\n",
    "        # Iterate through after a single point and set the remaing cols to nn_2\n",
    "        for j in range(split, np.shape(nn1_weights[i])[1]-1):\n",
    "            nn1_weights[i][:, j] = nn2_weights[i][:, j]\n",
    "\n",
    "        child_weights.append(nn1_weights[i])\n",
    "\n",
    "    mutation(child_weights)\n",
    "\n",
    "    child = ANN(child_weights)\n",
    "    return child"
   ]
  },
  {
   "cell_type": "code",
   "execution_count": 4,
   "id": "c9a6a39e",
   "metadata": {},
   "outputs": [],
   "source": [
    "def mutation(child_weights):\n",
    "    selection = random.randint(0, len(child_weights)-1)\n",
    "    mut = random.uniform(0, 1)\n",
    "    if mut <= .05:\n",
    "        child_weights[selection] *= random.randint(2, 5)\n",
    "    else:\n",
    "        pass"
   ]
  },
  {
   "cell_type": "code",
   "execution_count": 5,
   "id": "75f5d885",
   "metadata": {},
   "outputs": [],
   "source": [
    "df=pd.read_csv(r\"C:\\Users\\krish\\Downloads\\loan.csv\")\n",
    "y=df[\"Personal Loan\"]\n",
    "x=df.drop([\"Personal Loan\",\"Unnamed: 0\"],axis=1)\n",
    "train_feature,test_feature,train_label,test_label=train_test_split(x, y, test_size=0.25, random_state=40)"
   ]
  },
  {
   "cell_type": "code",
   "execution_count": 6,
   "id": "1a20523f",
   "metadata": {},
   "outputs": [],
   "source": [
    "# store all active ANNs\n",
    "networks = []\n",
    "pool = []\n",
    "# Generation counter\n",
    "generation = 0\n",
    "# Initial Population\n",
    "population = 10\n",
    "for i in range(population):\n",
    "    networks.append(ANN())\n",
    "# Track Max Fitness\n",
    "max_fitness = 0\n",
    "# Store Max Fitness Weights\n",
    "optimal_weights = []\n",
    "\n",
    "epochs = 10\n",
    "# Evolution Loop"
   ]
  },
  {
   "cell_type": "code",
   "execution_count": 7,
   "id": "2bb220d5",
   "metadata": {},
   "outputs": [
    {
     "name": "stderr",
     "output_type": "stream",
     "text": [
      "2023-04-04 21:36:36,850 Generation: 1\r\n",
      "\n"
     ]
    },
    {
     "name": "stdout",
     "output_type": "stream",
     "text": [
      "118/118 [==============================] - 0s 1ms/step\n",
      "118/118 [==============================] - 0s 1ms/step\n",
      "118/118 [==============================] - 0s 1ms/step\n",
      "118/118 [==============================] - 0s 1ms/step\n",
      "118/118 [==============================] - 0s 1ms/step\n",
      "118/118 [==============================] - 0s 1ms/step\n",
      "118/118 [==============================] - 0s 1ms/step\n",
      "118/118 [==============================] - 0s 1ms/step\n",
      "118/118 [==============================] - 0s 1ms/step\n",
      "118/118 [==============================] - 0s 1ms/step\n"
     ]
    },
    {
     "name": "stderr",
     "output_type": "stream",
     "text": [
      "2023-04-04 21:36:39,317 Max Fitness: 0.9032\n",
      "\n",
      "2023-04-04 21:36:39,321 optimal_weights: [array([[ 0.08561397,  0.44375926, -0.29569313, -0.05409753,  0.50031716,\n",
      "         0.07797748, -0.35642022,  0.49451858],\n",
      "       [-0.05308354,  0.5031635 ,  0.45751005,  0.31455666, -0.3024725 ,\n",
      "         0.11528856,  0.01729971,  0.29698926],\n",
      "       [ 0.20615906, -0.38437775,  0.31156653,  0.5041061 , -0.18289658,\n",
      "        -0.07484144,  0.07896173, -0.3611071 ],\n",
      "       [-0.07671407,  0.32683724, -0.38685787,  0.03667951,  0.29159135,\n",
      "        -0.09416506,  0.18153787,  0.12656039],\n",
      "       [-0.41094995,  0.44415253,  0.36135578,  0.496769  ,  0.1470688 ,\n",
      "        -0.36454624, -0.07002848,  0.49711865],\n",
      "       [ 0.2796256 , -0.12656924,  0.21808314,  0.12182385,  0.17303485,\n",
      "        -0.01888537,  0.17806423,  0.37246722],\n",
      "       [ 0.14993596, -0.5111263 ,  0.30627817, -0.34217054,  0.22628254,\n",
      "         0.09913301, -0.47594053, -0.145466  ],\n",
      "       [ 0.2745108 , -0.12475476,  0.4141361 , -0.34489393, -0.5180825 ,\n",
      "         0.25664127, -0.43337333, -0.48664322],\n",
      "       [-0.41299662, -0.4058587 , -0.28814593,  0.10641432,  0.19554818,\n",
      "         0.11779946, -0.22131914,  0.07829046],\n",
      "       [ 0.10699511, -0.31184492,  0.19316262,  0.48692507, -0.5043461 ,\n",
      "        -0.02061546,  0.17663997, -0.477514  ],\n",
      "       [-0.50346154,  0.32195985, -0.26467818,  0.31086433, -0.28484547,\n",
      "         0.02545989,  0.38288456,  0.19281161]], dtype=float32), array([[-0.54330623],\n",
      "       [-0.6351811 ],\n",
      "       [-0.7308818 ],\n",
      "       [ 0.6336045 ],\n",
      "       [ 0.05904418],\n",
      "       [-0.5839778 ],\n",
      "       [ 0.00310534],\n",
      "       [-0.36314276]], dtype=float32)]\n",
      "\n",
      "2023-04-04 21:36:39,513 Generation: 2\n",
      "\n"
     ]
    },
    {
     "name": "stdout",
     "output_type": "stream",
     "text": [
      "118/118 [==============================] - 0s 1ms/step\n",
      "118/118 [==============================] - 0s 1ms/step\n",
      "118/118 [==============================] - 0s 1ms/step\n",
      "118/118 [==============================] - 0s 1ms/step\n",
      "118/118 [==============================] - 0s 1ms/step\n",
      "118/118 [==============================] - 0s 1ms/step\n",
      "118/118 [==============================] - 0s 1ms/step\n",
      "118/118 [==============================] - 0s 1ms/step\n",
      "118/118 [==============================] - 0s 1ms/step\n",
      "118/118 [==============================] - 0s 1ms/step\n"
     ]
    },
    {
     "name": "stderr",
     "output_type": "stream",
     "text": [
      "2023-04-04 21:36:41,871 Max Fitness: 0.904\n",
      "\n",
      "2023-04-04 21:36:41,874 optimal_weights: [array([[ 0.03747505, -0.25157684, -0.55169666, -0.14709347,  0.04679507,\n",
      "        -0.4372964 , -0.05320925,  0.07296264],\n",
      "       [ 0.42961168, -0.4975867 , -0.01708883,  0.01855391, -0.5282937 ,\n",
      "         0.12038368, -0.40498623,  0.52181333],\n",
      "       [ 0.5597543 , -0.35680783,  0.49240416, -0.00835741,  0.22309625,\n",
      "        -0.28112552, -0.49126527,  0.09617126],\n",
      "       [ 0.28150642,  0.47415608,  0.3740648 ,  0.55441815,  0.3740387 ,\n",
      "        -0.06222913, -0.06222042, -0.54288185],\n",
      "       [-0.2336052 , -0.5124965 , -0.5296854 ,  0.23144907,  0.22359663,\n",
      "         0.40359098,  0.02065897,  0.20781761],\n",
      "       [-0.01354492,  0.2771107 , -0.54954827, -0.32963902, -0.17729223,\n",
      "         0.15120077, -0.0295704 ,  0.27307028],\n",
      "       [-0.34091315,  0.2412368 , -0.09955534,  0.26438022,  0.18267983,\n",
      "        -0.52101797,  0.00189489,  0.19741327],\n",
      "       [ 0.4173531 , -0.25240135,  0.27787894, -0.14497283,  0.5467848 ,\n",
      "        -0.49858055,  0.02225912, -0.44936365],\n",
      "       [ 0.2758171 ,  0.34514612,  0.02273852,  0.273255  ,  0.07585275,\n",
      "        -0.0914982 ,  0.3205604 ,  0.5488934 ],\n",
      "       [ 0.10497952, -0.04577816,  0.15035468, -0.01601243,  0.54406613,\n",
      "        -0.0017271 , -0.31200236, -0.11713707],\n",
      "       [ 0.42327797, -0.11822996,  0.5367504 ,  0.18439311, -0.07051069,\n",
      "         0.2420907 , -0.34944016,  0.00082839]], dtype=float32), array([[-0.6823412 ],\n",
      "       [-0.27949452],\n",
      "       [ 0.555552  ],\n",
      "       [-0.05262053],\n",
      "       [ 0.1793474 ],\n",
      "       [-0.05581111],\n",
      "       [ 0.60130656],\n",
      "       [-0.6174805 ]], dtype=float32)]\n",
      "\n",
      "2023-04-04 21:36:42,050 Generation: 3\n",
      "\n"
     ]
    },
    {
     "name": "stdout",
     "output_type": "stream",
     "text": [
      "118/118 [==============================] - 0s 1ms/step\n",
      "118/118 [==============================] - 0s 1ms/step\n",
      "118/118 [==============================] - 0s 1ms/step\n",
      "118/118 [==============================] - 0s 1ms/step\n",
      "118/118 [==============================] - 0s 1ms/step\n",
      "118/118 [==============================] - 0s 1ms/step\n",
      "118/118 [==============================] - 0s 1ms/step\n",
      "118/118 [==============================] - 0s 1ms/step\n",
      "118/118 [==============================] - 0s 1ms/step\n",
      "118/118 [==============================] - 0s 1ms/step\n"
     ]
    },
    {
     "name": "stderr",
     "output_type": "stream",
     "text": [
      "2023-04-04 21:36:44,794 Generation: 4\r\n",
      "\n"
     ]
    },
    {
     "name": "stdout",
     "output_type": "stream",
     "text": [
      "118/118 [==============================] - 0s 1ms/step\n",
      "118/118 [==============================] - 0s 1ms/step\n",
      "118/118 [==============================] - 0s 1ms/step\n",
      "118/118 [==============================] - 0s 1ms/step\n",
      "118/118 [==============================] - 0s 1ms/step\n",
      "118/118 [==============================] - 0s 1ms/step\n",
      "118/118 [==============================] - 0s 1ms/step\n",
      "118/118 [==============================] - 0s 1ms/step\n",
      "118/118 [==============================] - 0s 1ms/step\n",
      "118/118 [==============================] - 0s 1ms/step\n"
     ]
    },
    {
     "name": "stderr",
     "output_type": "stream",
     "text": [
      "2023-04-04 21:36:47,477 Generation: 5\r\n",
      "\n"
     ]
    },
    {
     "name": "stdout",
     "output_type": "stream",
     "text": [
      "118/118 [==============================] - 0s 1ms/step\n",
      "118/118 [==============================] - 0s 1ms/step\n",
      "118/118 [==============================] - 0s 1ms/step\n",
      "118/118 [==============================] - 0s 1ms/step\n",
      "118/118 [==============================] - 0s 1ms/step\n",
      "118/118 [==============================] - 0s 1ms/step\n",
      "118/118 [==============================] - 0s 1ms/step\n",
      "118/118 [==============================] - 0s 1ms/step\n",
      "118/118 [==============================] - 0s 1ms/step\n",
      "118/118 [==============================] - 0s 1ms/step\n"
     ]
    },
    {
     "name": "stderr",
     "output_type": "stream",
     "text": [
      "2023-04-04 21:36:50,203 Generation: 6\r\n",
      "\n"
     ]
    },
    {
     "name": "stdout",
     "output_type": "stream",
     "text": [
      "118/118 [==============================] - 0s 1ms/step\n",
      "118/118 [==============================] - 0s 1ms/step\n",
      "118/118 [==============================] - 0s 1ms/step\n",
      "118/118 [==============================] - 0s 1ms/step\n",
      "118/118 [==============================] - 0s 1ms/step\n",
      "118/118 [==============================] - 0s 1ms/step\n",
      "118/118 [==============================] - 0s 1ms/step\n",
      "118/118 [==============================] - 0s 1ms/step\n",
      "118/118 [==============================] - 0s 1ms/step\n",
      "118/118 [==============================] - 0s 1ms/step\n"
     ]
    },
    {
     "name": "stderr",
     "output_type": "stream",
     "text": [
      "2023-04-04 21:36:52,814 Generation: 7\r\n",
      "\n"
     ]
    },
    {
     "name": "stdout",
     "output_type": "stream",
     "text": [
      "118/118 [==============================] - 0s 1ms/step\n",
      "118/118 [==============================] - 0s 1ms/step\n",
      "118/118 [==============================] - 0s 1ms/step\n",
      "118/118 [==============================] - 0s 1ms/step\n",
      "118/118 [==============================] - 0s 1ms/step\n",
      "118/118 [==============================] - 0s 1ms/step\n",
      "118/118 [==============================] - 0s 1ms/step\n",
      "118/118 [==============================] - 0s 1ms/step\n",
      "118/118 [==============================] - 0s 1ms/step\n",
      "118/118 [==============================] - 0s 1ms/step\n"
     ]
    },
    {
     "name": "stderr",
     "output_type": "stream",
     "text": [
      "2023-04-04 21:36:55,404 Generation: 8\r\n",
      "\n"
     ]
    },
    {
     "name": "stdout",
     "output_type": "stream",
     "text": [
      "118/118 [==============================] - 0s 1ms/step\n",
      "118/118 [==============================] - 0s 1ms/step\n",
      "118/118 [==============================] - 0s 1ms/step\n",
      "118/118 [==============================] - 0s 1ms/step\n",
      "118/118 [==============================] - 0s 1ms/step\n",
      "118/118 [==============================] - 0s 1ms/step\n",
      "118/118 [==============================] - 0s 1ms/step\n",
      "118/118 [==============================] - 0s 1ms/step\n",
      "118/118 [==============================] - 0s 1ms/step\n",
      "118/118 [==============================] - 0s 1ms/step\n"
     ]
    },
    {
     "name": "stderr",
     "output_type": "stream",
     "text": [
      "2023-04-04 21:36:57,913 Generation: 9\r\n",
      "\n"
     ]
    },
    {
     "name": "stdout",
     "output_type": "stream",
     "text": [
      "118/118 [==============================] - 0s 1ms/step\n",
      "118/118 [==============================] - 0s 1ms/step\n",
      "118/118 [==============================] - 0s 1ms/step\n",
      "118/118 [==============================] - 0s 1ms/step\n",
      "118/118 [==============================] - 0s 1ms/step\n",
      "118/118 [==============================] - 0s 1ms/step\n",
      "118/118 [==============================] - 0s 1ms/step\n",
      "118/118 [==============================] - 0s 1ms/step\n",
      "118/118 [==============================] - 0s 1ms/step\n",
      "118/118 [==============================] - 0s 1ms/step\n"
     ]
    },
    {
     "name": "stderr",
     "output_type": "stream",
     "text": [
      "2023-04-04 21:37:00,392 Generation: 10\r\n",
      "\n"
     ]
    },
    {
     "name": "stdout",
     "output_type": "stream",
     "text": [
      "118/118 [==============================] - 0s 1ms/step\n",
      "118/118 [==============================] - 0s 1ms/step\n",
      "118/118 [==============================] - 0s 1ms/step\n",
      "118/118 [==============================] - 0s 1ms/step\n",
      "118/118 [==============================] - 0s 1ms/step\n",
      "118/118 [==============================] - 0s 1ms/step\n",
      "118/118 [==============================] - 0s 1ms/step\n",
      "118/118 [==============================] - 0s 1ms/step\n",
      "118/118 [==============================] - 0s 1ms/step\n",
      "118/118 [==============================] - 0s 1ms/step\n",
      "Pool\n",
      "[<__main__.ANN object at 0x0000026D2F169D60>, <__main__.ANN object at 0x0000026D2F192760>, <__main__.ANN object at 0x0000026D2F0AD190>, <__main__.ANN object at 0x0000026D2F0A7880>, <__main__.ANN object at 0x0000026D2F1375B0>, <__main__.ANN object at 0x0000026D2E038FA0>, <__main__.ANN object at 0x0000026D2DF5B6D0>, <__main__.ANN object at 0x0000026D2CE7C370>, <__main__.ANN object at 0x0000026D2CCB13D0>, <__main__.ANN object at 0x0000026D2CC96460>, <__main__.ANN object at 0x0000026D2CC8E7C0>, <__main__.ANN object at 0x0000026D2BB20610>, <__main__.ANN object at 0x0000026D2A9A87F0>, <__main__.ANN object at 0x0000026D2AA593D0>, <__main__.ANN object at 0x0000026D29868A60>, <__main__.ANN object at 0x0000026D2990EDF0>, <__main__.ANN object at 0x0000026D2BB608B0>, <__main__.ANN object at 0x0000026D2BB397F0>, <__main__.ANN object at 0x0000026D2CE13880>, <__main__.ANN object at 0x0000026D2CD14A90>, <__main__.ANN object at 0x0000026D2A99B970>, <__main__.ANN object at 0x0000026D2CD1A760>, <__main__.ANN object at 0x0000026D2DF50790>, <__main__.ANN object at 0x0000026D2E076940>, <__main__.ANN object at 0x0000026D2E04F940>, <__main__.ANN object at 0x0000026D2DF6F280>, <__main__.ANN object at 0x0000026D2DE6C4F0>, <__main__.ANN object at 0x0000026D2DEA47C0>, <__main__.ANN object at 0x0000026D2DF1B4F0>, <__main__.ANN object at 0x0000026D2CD35DF0>, <__main__.ANN object at 0x0000026D2F188910>, <__main__.ANN object at 0x0000026D2F19AA30>, <__main__.ANN object at 0x0000026D2CE390D0>, <__main__.ANN object at 0x0000026D2DE8A6A0>, <__main__.ANN object at 0x0000026D2BC234C0>, <__main__.ANN object at 0x0000026D2847B8B0>, <__main__.ANN object at 0x0000026D2BB169D0>, <__main__.ANN object at 0x0000026D2BAF3E50>, <__main__.ANN object at 0x0000026D2BAD34C0>, <__main__.ANN object at 0x0000026D2BAD3BE0>, <__main__.ANN object at 0x0000026D2987CB80>, <__main__.ANN object at 0x0000026D2985A580>, <__main__.ANN object at 0x0000026D2874C160>, <__main__.ANN object at 0x0000026D2874C0A0>, <__main__.ANN object at 0x0000026D273C2910>, <__main__.ANN object at 0x0000026D284C8E50>, <__main__.ANN object at 0x0000026D2975BC40>, <__main__.ANN object at 0x0000026D298D17F0>, <__main__.ANN object at 0x0000026D2A96D670>, <__main__.ANN object at 0x0000026D297CA4C0>, <__main__.ANN object at 0x0000026D2BB66B50>, <__main__.ANN object at 0x0000026D2BB8C6A0>, <__main__.ANN object at 0x0000026D2BB833A0>, <__main__.ANN object at 0x0000026D28597F40>, <__main__.ANN object at 0x0000026D2BB709D0>, <__main__.ANN object at 0x0000026D2CDB34F0>, <__main__.ANN object at 0x0000026D2CD0E8E0>, <__main__.ANN object at 0x0000026D2F169FD0>, <__main__.ANN object at 0x0000026D2A935910>, <__main__.ANN object at 0x0000026D29830040>, <__main__.ANN object at 0x0000026D2988FEB0>, <__main__.ANN object at 0x0000026D2BAC4E80>, <__main__.ANN object at 0x0000026D297C1F10>, <__main__.ANN object at 0x0000026D2876EA30>, <__main__.ANN object at 0x0000026D2DF4CCD0>, <__main__.ANN object at 0x0000026D2A98FCD0>, <__main__.ANN object at 0x0000026D2CD2FC70>, <__main__.ANN object at 0x0000026D2DFF58E0>, <__main__.ANN object at 0x0000026D2F1920A0>, <__main__.ANN object at 0x0000026D2BB05A00>, <__main__.ANN object at 0x0000026D2CDA76D0>, <__main__.ANN object at 0x0000026D2CC8EF70>, <__main__.ANN object at 0x0000026D2A949B80>, <__main__.ANN object at 0x0000026D28497A00>, <__main__.ANN object at 0x0000026D29873580>, <__main__.ANN object at 0x0000026D2E061190>, <__main__.ANN object at 0x0000026D29776670>, <__main__.ANN object at 0x0000026D2BB522B0>, <__main__.ANN object at 0x0000026D2DE998E0>, <__main__.ANN object at 0x0000026D2CDD38E0>, <__main__.ANN object at 0x0000026D284D7D60>, <__main__.ANN object at 0x0000026D28480EB0>, <__main__.ANN object at 0x0000026D2988FF10>, <__main__.ANN object at 0x0000026D298A7910>, <__main__.ANN object at 0x0000026D2DF2F970>, <__main__.ANN object at 0x0000026D2DF08BB0>, <__main__.ANN object at 0x0000026D298FF1F0>, <__main__.ANN object at 0x0000026D2CE32790>, <__main__.ANN object at 0x0000026D2CC6BD30>, <__main__.ANN object at 0x0000026D2CCC23A0>, <__main__.ANN object at 0x0000026D2CDAD7C0>, <__main__.ANN object at 0x0000026D2BC68400>, <__main__.ANN object at 0x0000026D298C0B20>, <__main__.ANN object at 0x0000026D28487910>, <__main__.ANN object at 0x0000026D284AF0A0>, <__main__.ANN object at 0x0000026D284A61F0>, <__main__.ANN object at 0x0000026D29885AC0>, <__main__.ANN object at 0x0000026D2733AF40>, <__main__.ANN object at 0x0000026D284148B0>, <__main__.ANN object at 0x0000026D28497CA0>]\n"
     ]
    }
   ],
   "source": [
    "for i in range(epochs):\n",
    "    generation += 1\n",
    "    logging.debug(\"Generation: \" + str(generation) + \"\\r\\n\")\n",
    "\n",
    "    for ann in networks:\n",
    "        # Propagate to calculate fitness score\n",
    "        ann.forward_propagation(train_feature, train_label)\n",
    "        # Add to pool after calculating fitness\n",
    "        pool.append(ann)\n",
    "\n",
    "    # Clear for propagation of next children\n",
    "    networks.clear()\n",
    "\n",
    "    # Sort anns by fitness\n",
    "    pool = sorted(pool, key=lambda x: x.fitness)\n",
    "    pool.reverse()\n",
    "\n",
    "    # Find Max Fitness and Log Associated Weights\n",
    "    for i in range(len(pool)):\n",
    "        if pool[i].fitness > max_fitness:\n",
    "            max_fitness = pool[i].fitness\n",
    "\n",
    "            logging.debug(\"Max Fitness: \" + str(max_fitness) + \"\\r\\n\")\n",
    "\n",
    "            # Iterate through layers, get weights, and append to optimal\n",
    "            optimal_weights = []\n",
    "            for layer in pool[i].layers:\n",
    "                optimal_weights.append(layer.get_weights()[0])\n",
    "            logging.debug('optimal_weights: ' + str(optimal_weights)+\"\\r\\n\")\n",
    "\n",
    "    # Crossover: top 5 randomly select 2 partners\n",
    "    for i in range(5):\n",
    "        for j in range(2):\n",
    "            # Create a child and add to networks\n",
    "            temp = crossover(pool[i], random.choice(pool))\n",
    "            # Add to networks to calculate fitness score next iteration\n",
    "            networks.append(temp)\n",
    "print(\"Pool\")\n",
    "print(pool)"
   ]
  },
  {
   "cell_type": "code",
   "execution_count": 8,
   "id": "1643d125",
   "metadata": {},
   "outputs": [
    {
     "name": "stdout",
     "output_type": "stream",
     "text": [
      "40/40 [==============================] - 0s 1ms/step\n",
      "Test Accuracy: 0.91\n"
     ]
    }
   ],
   "source": [
    "ann = ANN(optimal_weights)\n",
    "predict_label = ann.predict(test_feature.values)\n",
    "print('Test Accuracy: %.2f' % accuracy_score(test_label, predict_label.round()))"
   ]
  },
  {
   "cell_type": "code",
   "execution_count": 11,
   "id": "3e37f1dc",
   "metadata": {},
   "outputs": [
    {
     "name": "stdout",
     "output_type": "stream",
     "text": [
      "Model: \"ann_110\"\n",
      "_________________________________________________________________\n",
      " Layer (type)                Output Shape              Param #   \n",
      "=================================================================\n",
      " dense_220 (Dense)           (None, 8)                 96        \n",
      "                                                                 \n",
      " dense_221 (Dense)           (None, 1)                 9         \n",
      "                                                                 \n",
      "=================================================================\n",
      "Total params: 105\n",
      "Trainable params: 105\n",
      "Non-trainable params: 0\n",
      "_________________________________________________________________\n"
     ]
    }
   ],
   "source": [
    "ann.summary()"
   ]
  },
  {
   "cell_type": "code",
   "execution_count": null,
   "id": "d925cf28",
   "metadata": {},
   "outputs": [],
   "source": []
  }
 ],
 "metadata": {
  "kernelspec": {
   "display_name": "Python 3 (ipykernel)",
   "language": "python",
   "name": "python3"
  },
  "language_info": {
   "codemirror_mode": {
    "name": "ipython",
    "version": 3
   },
   "file_extension": ".py",
   "mimetype": "text/x-python",
   "name": "python",
   "nbconvert_exporter": "python",
   "pygments_lexer": "ipython3",
   "version": "3.9.13"
  }
 },
 "nbformat": 4,
 "nbformat_minor": 5
}
